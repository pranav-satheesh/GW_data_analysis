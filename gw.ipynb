{
 "cells": [
  {
   "cell_type": "code",
   "execution_count": 1,
   "metadata": {},
   "outputs": [
    {
     "name": "stdout",
     "output_type": "stream",
     "text": [
      "Requirement already satisfied: pycbc in /home/pranav/anaconda3/lib/python3.6/site-packages (1.13.2)\n",
      "Requirement already satisfied: lalsuite in /home/pranav/anaconda3/lib/python3.6/site-packages (6.52)\n",
      "Requirement already satisfied: ligo-common in /home/pranav/anaconda3/lib/python3.6/site-packages (1.0.3)\n",
      "Requirement already satisfied: astropy<3.0.0,>=2.0.3 in /home/pranav/anaconda3/lib/python3.6/site-packages (from pycbc) (2.0.12)\n",
      "Requirement already satisfied: matplotlib>=1.5.1 in /home/pranav/.local/lib/python3.6/site-packages (from pycbc) (2.2.2)\n",
      "Requirement already satisfied: scipy>=0.16.0 in /home/pranav/.local/lib/python3.6/site-packages (from pycbc) (1.1.0)\n",
      "Requirement already satisfied: numpy>=1.13.0 in /home/pranav/.local/lib/python3.6/site-packages (from pycbc) (1.14.5)\n",
      "Requirement already satisfied: emcee==2.2.1 in /home/pranav/anaconda3/lib/python3.6/site-packages (from pycbc) (2.2.1)\n",
      "Requirement already satisfied: six>=1.10.0 in /home/pranav/.local/lib/python3.6/site-packages (from pycbc) (1.11.0)\n",
      "Requirement already satisfied: jinja2 in /home/pranav/anaconda3/lib/python3.6/site-packages (from pycbc) (2.10)\n",
      "Requirement already satisfied: mpld3>=0.3 in /home/pranav/anaconda3/lib/python3.6/site-packages (from pycbc) (0.3)\n",
      "Requirement already satisfied: pillow in /home/pranav/anaconda3/lib/python3.6/site-packages (from pycbc) (5.1.0)\n",
      "Requirement already satisfied: h5py>=2.5 in /home/pranav/anaconda3/lib/python3.6/site-packages (from pycbc) (2.7.1)\n",
      "Requirement already satisfied: Mako>=1.0.1 in /home/pranav/anaconda3/lib/python3.6/site-packages (from pycbc) (1.0.7)\n",
      "Requirement already satisfied: kombine>=0.8.2 in /home/pranav/anaconda3/lib/python3.6/site-packages (from pycbc) (0.8.3)\n",
      "Requirement already satisfied: decorator>=3.4.2 in /home/pranav/anaconda3/lib/python3.6/site-packages (from pycbc) (4.3.0)\n",
      "Requirement already satisfied: lscsoft-glue>=1.59.3 in /home/pranav/anaconda3/lib/python3.6/site-packages (from pycbc) (1.60.0)\n",
      "Requirement already satisfied: requests>=1.2.1 in /home/pranav/anaconda3/lib/python3.6/site-packages (from pycbc) (2.18.4)\n",
      "Requirement already satisfied: ligo-segments in /home/pranav/anaconda3/lib/python3.6/site-packages (from pycbc) (1.1.0)\n",
      "Requirement already satisfied: beautifulsoup4>=4.6.0 in /home/pranav/anaconda3/lib/python3.6/site-packages (from pycbc) (4.6.0)\n",
      "Requirement already satisfied: cython in /home/pranav/anaconda3/lib/python3.6/site-packages (from pycbc) (0.28.2)\n",
      "Requirement already satisfied: python-dateutil in /home/pranav/.local/lib/python3.6/site-packages (from lalsuite) (2.7.3)\n",
      "Requirement already satisfied: pytest<3.7,>=2.8 in /home/pranav/anaconda3/lib/python3.6/site-packages (from astropy<3.0.0,>=2.0.3->pycbc) (3.5.1)\n",
      "Requirement already satisfied: kiwisolver>=1.0.1 in /home/pranav/.local/lib/python3.6/site-packages (from matplotlib>=1.5.1->pycbc) (1.0.1)\n",
      "Requirement already satisfied: pyparsing!=2.0.4,!=2.1.2,!=2.1.6,>=2.0.1 in /home/pranav/.local/lib/python3.6/site-packages (from matplotlib>=1.5.1->pycbc) (2.2.0)\n",
      "Requirement already satisfied: pytz in /home/pranav/.local/lib/python3.6/site-packages (from matplotlib>=1.5.1->pycbc) (2018.5)\n",
      "Requirement already satisfied: cycler>=0.10 in /home/pranav/.local/lib/python3.6/site-packages (from matplotlib>=1.5.1->pycbc) (0.10.0)\n",
      "Requirement already satisfied: MarkupSafe>=0.23 in /home/pranav/anaconda3/lib/python3.6/site-packages (from jinja2->pycbc) (1.0)\n",
      "Requirement already satisfied: pyOpenSSL in /home/pranav/anaconda3/lib/python3.6/site-packages (from lscsoft-glue>=1.59.3->pycbc) (18.0.0)\n",
      "Requirement already satisfied: chardet<3.1.0,>=3.0.2 in /home/pranav/anaconda3/lib/python3.6/site-packages (from requests>=1.2.1->pycbc) (3.0.4)\n",
      "Requirement already satisfied: idna<2.7,>=2.5 in /home/pranav/anaconda3/lib/python3.6/site-packages (from requests>=1.2.1->pycbc) (2.6)\n",
      "Requirement already satisfied: urllib3<1.23,>=1.21.1 in /home/pranav/anaconda3/lib/python3.6/site-packages (from requests>=1.2.1->pycbc) (1.22)\n",
      "Requirement already satisfied: certifi>=2017.4.17 in /home/pranav/anaconda3/lib/python3.6/site-packages (from requests>=1.2.1->pycbc) (2018.4.16)\n",
      "Requirement already satisfied: py>=1.5.0 in /home/pranav/anaconda3/lib/python3.6/site-packages (from pytest<3.7,>=2.8->astropy<3.0.0,>=2.0.3->pycbc) (1.5.3)\n",
      "Requirement already satisfied: setuptools in /home/pranav/.local/lib/python3.6/site-packages (from pytest<3.7,>=2.8->astropy<3.0.0,>=2.0.3->pycbc) (39.2.0)\n",
      "Requirement already satisfied: attrs>=17.4.0 in /home/pranav/anaconda3/lib/python3.6/site-packages (from pytest<3.7,>=2.8->astropy<3.0.0,>=2.0.3->pycbc) (18.1.0)\n",
      "Requirement already satisfied: more-itertools>=4.0.0 in /home/pranav/anaconda3/lib/python3.6/site-packages (from pytest<3.7,>=2.8->astropy<3.0.0,>=2.0.3->pycbc) (4.1.0)\n",
      "Requirement already satisfied: pluggy<0.7,>=0.5 in /home/pranav/anaconda3/lib/python3.6/site-packages (from pytest<3.7,>=2.8->astropy<3.0.0,>=2.0.3->pycbc) (0.6.0)\n",
      "Requirement already satisfied: cryptography>=2.2.1 in /home/pranav/anaconda3/lib/python3.6/site-packages (from pyOpenSSL->lscsoft-glue>=1.59.3->pycbc) (2.2.2)\n",
      "Requirement already satisfied: asn1crypto>=0.21.0 in /home/pranav/anaconda3/lib/python3.6/site-packages (from cryptography>=2.2.1->pyOpenSSL->lscsoft-glue>=1.59.3->pycbc) (0.24.0)\n",
      "Requirement already satisfied: cffi>=1.7 in /home/pranav/anaconda3/lib/python3.6/site-packages (from cryptography>=2.2.1->pyOpenSSL->lscsoft-glue>=1.59.3->pycbc) (1.11.5)\n",
      "Requirement already satisfied: pycparser in /home/pranav/anaconda3/lib/python3.6/site-packages (from cffi>=1.7->cryptography>=2.2.1->pyOpenSSL->lscsoft-glue>=1.59.3->pycbc) (2.18)\n"
     ]
    }
   ],
   "source": [
    "import sys\n",
    "!{sys.executable} -m pip install pycbc lalsuite ligo-common --no-cache-dir"
   ]
  },
  {
   "cell_type": "code",
   "execution_count": 2,
   "metadata": {},
   "outputs": [
    {
     "name": "stderr",
     "output_type": "stream",
     "text": [
      "/home/pranav/anaconda3/lib/python3.6/site-packages/h5py/__init__.py:36: FutureWarning: Conversion of the second argument of issubdtype from `float` to `np.floating` is deprecated. In future, it will be treated as `np.float64 == np.dtype(float).type`.\n",
      "  from ._conv import register_converters as _register_converters\n"
     ]
    },
    {
     "name": "stdout",
     "output_type": "stream",
     "text": [
      "Processing H1 data\n",
      "Downloading https://dcc.ligo.org/public/0146/P1700349/001/H-H1_LOSC_CLN_4_V1-1187007040-2048.gwf [Done]\n"
     ]
    },
    {
     "ename": "TypeError",
     "evalue": "'float' object cannot be interpreted as an integer",
     "output_type": "error",
     "traceback": [
      "\u001b[0;31m---------------------------------------------------------------------------\u001b[0m",
      "\u001b[0;31mTypeError\u001b[0m                                 Traceback (most recent call last)",
      "\u001b[0;32m<ipython-input-2-513455479da6>\u001b[0m in \u001b[0;36m<module>\u001b[0;34m()\u001b[0m\n\u001b[1;32m     36\u001b[0m \u001b[0;34m\u001b[0m\u001b[0m\n\u001b[1;32m     37\u001b[0m     \u001b[0;31m# Estimate the power spectral density of the data\u001b[0m\u001b[0;34m\u001b[0m\u001b[0;34m\u001b[0m\u001b[0m\n\u001b[0;32m---> 38\u001b[0;31m     \u001b[0mpsd\u001b[0m \u001b[0;34m=\u001b[0m \u001b[0minterpolate\u001b[0m\u001b[0;34m(\u001b[0m\u001b[0mts\u001b[0m\u001b[0;34m.\u001b[0m\u001b[0mpsd\u001b[0m\u001b[0;34m(\u001b[0m\u001b[0;36m4\u001b[0m\u001b[0;34m)\u001b[0m\u001b[0;34m,\u001b[0m \u001b[0mts\u001b[0m\u001b[0;34m.\u001b[0m\u001b[0mdelta_f\u001b[0m\u001b[0;34m)\u001b[0m\u001b[0;34m\u001b[0m\u001b[0m\n\u001b[0m\u001b[1;32m     39\u001b[0m     psd = inverse_spectrum_truncation(psd, int(4 * psd.sample_rate), \n\u001b[1;32m     40\u001b[0m                                       \u001b[0mtrunc_method\u001b[0m\u001b[0;34m=\u001b[0m\u001b[0;34m'hann'\u001b[0m\u001b[0;34m,\u001b[0m\u001b[0;34m\u001b[0m\u001b[0m\n",
      "\u001b[0;32m~/anaconda3/lib/python3.6/site-packages/pycbc/types/timeseries.py\u001b[0m in \u001b[0;36mpsd\u001b[0;34m(self, segment_duration, **kwds)\u001b[0m\n\u001b[1;32m    454\u001b[0m         return welch(self, seg_len=seg_len,\n\u001b[1;32m    455\u001b[0m                            \u001b[0mseg_stride\u001b[0m\u001b[0;34m=\u001b[0m\u001b[0mseg_stride\u001b[0m\u001b[0;34m,\u001b[0m\u001b[0;34m\u001b[0m\u001b[0m\n\u001b[0;32m--> 456\u001b[0;31m                            **kwds)\n\u001b[0m\u001b[1;32m    457\u001b[0m \u001b[0;34m\u001b[0m\u001b[0m\n\u001b[1;32m    458\u001b[0m     def whiten(self, segment_duration, max_filter_duration, trunc_method='hann',\n",
      "\u001b[0;32m~/anaconda3/lib/python3.6/site-packages/pycbc/psd/estimate.py\u001b[0m in \u001b[0;36mwelch\u001b[0;34m(timeseries, seg_len, seg_stride, window, avg_method, num_segments, require_exact_data_fit)\u001b[0m\n\u001b[1;32m    142\u001b[0m     \u001b[0;31m# calculate psd of each segment\u001b[0m\u001b[0;34m\u001b[0m\u001b[0;34m\u001b[0m\u001b[0m\n\u001b[1;32m    143\u001b[0m     \u001b[0mdelta_f\u001b[0m \u001b[0;34m=\u001b[0m \u001b[0;36m1.\u001b[0m \u001b[0;34m/\u001b[0m \u001b[0mtimeseries\u001b[0m\u001b[0;34m.\u001b[0m\u001b[0mdelta_t\u001b[0m \u001b[0;34m/\u001b[0m \u001b[0mseg_len\u001b[0m\u001b[0;34m\u001b[0m\u001b[0m\n\u001b[0;32m--> 144\u001b[0;31m     segment_tilde = FrequencySeries(numpy.zeros(seg_len / 2 + 1), \\\n\u001b[0m\u001b[1;32m    145\u001b[0m         delta_f=delta_f, dtype=fs_dtype)\n\u001b[1;32m    146\u001b[0m \u001b[0;34m\u001b[0m\u001b[0m\n",
      "\u001b[0;31mTypeError\u001b[0m: 'float' object cannot be interpreted as an integer"
     ]
    }
   ],
   "source": [
    "from pycbc.catalog import Merger\n",
    "from pycbc.psd import interpolate, inverse_spectrum_truncation\n",
    "from pycbc.frame import read_frame\n",
    "from pycbc.filter import highpass, resample_to_delta_t\n",
    "from astropy.utils.data import download_file\n",
    "\n",
    "\n",
    "m = Merger(\"GW170817\")\n",
    "\n",
    "# List of observatories we'll analyze\n",
    "ifos = ['H1', \n",
    "        'V1', \n",
    "        'L1',\n",
    "       ]\n",
    "\n",
    "# The single template waveform model needs these data products\n",
    "psds = {}\n",
    "data = {}\n",
    "\n",
    "for ifo in ifos:\n",
    "    print(\"Processing {} data\".format(ifo))\n",
    "    \n",
    "    # Download the gravitational wave data for GW170817\n",
    "    url = \"https://dcc.ligo.org/public/0146/P1700349/001/{}-{}1_LOSC_CLN_4_V1-1187007040-2048.gwf\"\n",
    "    fname = download_file(url.format(ifo[0], ifo[0]), cache=True) \n",
    "\n",
    "    # Read the gravitational wave data and do some minimal\n",
    "    # conditioning of the data.\n",
    "    ts = read_frame(fname, \"{}:LOSC-STRAIN\".format(ifo),\n",
    "                    start_time=int(m.time - 260),\n",
    "                    end_time=int(m.time + 40))\n",
    "    ts = highpass(ts, 15.0)                     # Remove low frequency content\n",
    "    ts = resample_to_delta_t(ts, 1.0/2048)      # Resample data to 2048 Hz\n",
    "    ts = ts.time_slice(m.time-112, m.time + 16) # Limit to times around the signal\n",
    "    data[ifo] = ts.to_frequencyseries()         # Convert to a frequency series by taking the data's FFT\n",
    "\n",
    "    # Estimate the power spectral density of the data\n",
    "    psd = interpolate(ts.psd(4), ts.delta_f)\n",
    "    psd = inverse_spectrum_truncation(psd, int(4 * psd.sample_rate), \n",
    "                                      trunc_method='hann',\n",
    "                                      low_frequency_cutoff=20.0)\n",
    "    psds[ifo] = psd\n"
   ]
  },
  {
   "cell_type": "code",
   "execution_count": null,
   "metadata": {},
   "outputs": [],
   "source": []
  }
 ],
 "metadata": {
  "kernelspec": {
   "display_name": "Python 2",
   "language": "python",
   "name": "python2"
  },
  "language_info": {
   "codemirror_mode": {
    "name": "ipython",
    "version": 3
   },
   "file_extension": ".py",
   "mimetype": "text/x-python",
   "name": "python",
   "nbconvert_exporter": "python",
   "pygments_lexer": "ipython3",
   "version": "3.6.5"
  }
 },
 "nbformat": 4,
 "nbformat_minor": 2
}
